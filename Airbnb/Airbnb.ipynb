{
 "cells": [
  {
   "cell_type": "markdown",
   "id": "f4a17023",
   "metadata": {},
   "source": [
    "# Imports"
   ]
  },
  {
   "cell_type": "code",
   "execution_count": 2,
   "id": "7fff4aec",
   "metadata": {},
   "outputs": [],
   "source": [
    "import numpy as np\n",
    "import pandas as pd\n",
    "import os\n",
    "import gzip #&/or tarfile if needed to\n",
    "\n",
    "%matplotlib inline\n",
    "import matplotlib as mpl\n",
    "import matplotlib.pyplot as plt\n"
   ]
  },
  {
   "cell_type": "markdown",
   "id": "00cc09c1",
   "metadata": {},
   "source": [
    "# The data\n",
    "We use the New York City listings.csv.gz (March 2022) from: http://insideairbnb.com/get-the-data"
   ]
  },
  {
   "cell_type": "code",
   "execution_count": 3,
   "id": "796916e2",
   "metadata": {},
   "outputs": [
    {
     "data": {
      "text/html": [
       "<div>\n",
       "<style scoped>\n",
       "    .dataframe tbody tr th:only-of-type {\n",
       "        vertical-align: middle;\n",
       "    }\n",
       "\n",
       "    .dataframe tbody tr th {\n",
       "        vertical-align: top;\n",
       "    }\n",
       "\n",
       "    .dataframe thead th {\n",
       "        text-align: right;\n",
       "    }\n",
       "</style>\n",
       "<table border=\"1\" class=\"dataframe\">\n",
       "  <thead>\n",
       "    <tr style=\"text-align: right;\">\n",
       "      <th></th>\n",
       "      <th>id</th>\n",
       "      <th>listing_url</th>\n",
       "      <th>scrape_id</th>\n",
       "      <th>last_scraped</th>\n",
       "      <th>name</th>\n",
       "      <th>description</th>\n",
       "      <th>neighborhood_overview</th>\n",
       "      <th>picture_url</th>\n",
       "      <th>host_id</th>\n",
       "      <th>host_url</th>\n",
       "      <th>...</th>\n",
       "      <th>review_scores_communication</th>\n",
       "      <th>review_scores_location</th>\n",
       "      <th>review_scores_value</th>\n",
       "      <th>license</th>\n",
       "      <th>instant_bookable</th>\n",
       "      <th>calculated_host_listings_count</th>\n",
       "      <th>calculated_host_listings_count_entire_homes</th>\n",
       "      <th>calculated_host_listings_count_private_rooms</th>\n",
       "      <th>calculated_host_listings_count_shared_rooms</th>\n",
       "      <th>reviews_per_month</th>\n",
       "    </tr>\n",
       "  </thead>\n",
       "  <tbody>\n",
       "    <tr>\n",
       "      <th>0</th>\n",
       "      <td>2595</td>\n",
       "      <td>https://www.airbnb.com/rooms/2595</td>\n",
       "      <td>20220305031505</td>\n",
       "      <td>2022-03-05</td>\n",
       "      <td>Skylit Midtown Castle</td>\n",
       "      <td>Beautiful, spacious skylit studio in the heart...</td>\n",
       "      <td>Centrally located in the heart of Manhattan ju...</td>\n",
       "      <td>https://a0.muscache.com/pictures/f0813a11-40b2...</td>\n",
       "      <td>2845</td>\n",
       "      <td>https://www.airbnb.com/users/show/2845</td>\n",
       "      <td>...</td>\n",
       "      <td>4.79</td>\n",
       "      <td>4.86</td>\n",
       "      <td>4.41</td>\n",
       "      <td>NaN</td>\n",
       "      <td>f</td>\n",
       "      <td>3</td>\n",
       "      <td>3</td>\n",
       "      <td>0</td>\n",
       "      <td>0</td>\n",
       "      <td>0.32</td>\n",
       "    </tr>\n",
       "    <tr>\n",
       "      <th>1</th>\n",
       "      <td>5121</td>\n",
       "      <td>https://www.airbnb.com/rooms/5121</td>\n",
       "      <td>20220305031505</td>\n",
       "      <td>2022-03-05</td>\n",
       "      <td>BlissArtsSpace!</td>\n",
       "      <td>&lt;b&gt;The space&lt;/b&gt;&lt;br /&gt;HELLO EVERYONE AND THANK...</td>\n",
       "      <td>NaN</td>\n",
       "      <td>https://a0.muscache.com/pictures/2090980c-b68e...</td>\n",
       "      <td>7356</td>\n",
       "      <td>https://www.airbnb.com/users/show/7356</td>\n",
       "      <td>...</td>\n",
       "      <td>4.91</td>\n",
       "      <td>4.47</td>\n",
       "      <td>4.52</td>\n",
       "      <td>NaN</td>\n",
       "      <td>f</td>\n",
       "      <td>2</td>\n",
       "      <td>0</td>\n",
       "      <td>2</td>\n",
       "      <td>0</td>\n",
       "      <td>0.32</td>\n",
       "    </tr>\n",
       "    <tr>\n",
       "      <th>2</th>\n",
       "      <td>5136</td>\n",
       "      <td>https://www.airbnb.com/rooms/5136</td>\n",
       "      <td>20220305031505</td>\n",
       "      <td>2022-03-05</td>\n",
       "      <td>Spacious Brooklyn Duplex, Patio + Garden</td>\n",
       "      <td>We welcome you to stay in our lovely 2 br dupl...</td>\n",
       "      <td>NaN</td>\n",
       "      <td>https://a0.muscache.com/pictures/miso/Hosting-...</td>\n",
       "      <td>7378</td>\n",
       "      <td>https://www.airbnb.com/users/show/7378</td>\n",
       "      <td>...</td>\n",
       "      <td>5.00</td>\n",
       "      <td>4.50</td>\n",
       "      <td>5.00</td>\n",
       "      <td>NaN</td>\n",
       "      <td>f</td>\n",
       "      <td>1</td>\n",
       "      <td>1</td>\n",
       "      <td>0</td>\n",
       "      <td>0</td>\n",
       "      <td>0.02</td>\n",
       "    </tr>\n",
       "  </tbody>\n",
       "</table>\n",
       "<p>3 rows × 74 columns</p>\n",
       "</div>"
      ],
      "text/plain": [
       "     id                        listing_url       scrape_id last_scraped  \\\n",
       "0  2595  https://www.airbnb.com/rooms/2595  20220305031505   2022-03-05   \n",
       "1  5121  https://www.airbnb.com/rooms/5121  20220305031505   2022-03-05   \n",
       "2  5136  https://www.airbnb.com/rooms/5136  20220305031505   2022-03-05   \n",
       "\n",
       "                                       name  \\\n",
       "0                     Skylit Midtown Castle   \n",
       "1                           BlissArtsSpace!   \n",
       "2  Spacious Brooklyn Duplex, Patio + Garden   \n",
       "\n",
       "                                         description  \\\n",
       "0  Beautiful, spacious skylit studio in the heart...   \n",
       "1  <b>The space</b><br />HELLO EVERYONE AND THANK...   \n",
       "2  We welcome you to stay in our lovely 2 br dupl...   \n",
       "\n",
       "                               neighborhood_overview  \\\n",
       "0  Centrally located in the heart of Manhattan ju...   \n",
       "1                                                NaN   \n",
       "2                                                NaN   \n",
       "\n",
       "                                         picture_url  host_id  \\\n",
       "0  https://a0.muscache.com/pictures/f0813a11-40b2...     2845   \n",
       "1  https://a0.muscache.com/pictures/2090980c-b68e...     7356   \n",
       "2  https://a0.muscache.com/pictures/miso/Hosting-...     7378   \n",
       "\n",
       "                                 host_url  ... review_scores_communication  \\\n",
       "0  https://www.airbnb.com/users/show/2845  ...                        4.79   \n",
       "1  https://www.airbnb.com/users/show/7356  ...                        4.91   \n",
       "2  https://www.airbnb.com/users/show/7378  ...                        5.00   \n",
       "\n",
       "  review_scores_location review_scores_value license instant_bookable  \\\n",
       "0                   4.86                4.41     NaN                f   \n",
       "1                   4.47                4.52     NaN                f   \n",
       "2                   4.50                5.00     NaN                f   \n",
       "\n",
       "  calculated_host_listings_count calculated_host_listings_count_entire_homes  \\\n",
       "0                              3                                           3   \n",
       "1                              2                                           0   \n",
       "2                              1                                           1   \n",
       "\n",
       "  calculated_host_listings_count_private_rooms  \\\n",
       "0                                            0   \n",
       "1                                            2   \n",
       "2                                            0   \n",
       "\n",
       "  calculated_host_listings_count_shared_rooms reviews_per_month  \n",
       "0                                           0              0.32  \n",
       "1                                           0              0.32  \n",
       "2                                           0              0.02  \n",
       "\n",
       "[3 rows x 74 columns]"
      ]
     },
     "execution_count": 3,
     "metadata": {},
     "output_type": "execute_result"
    }
   ],
   "source": [
    "airbnb = pd.read_csv(\"./datasets/airbnb/listings.csv\",low_memory=False)\n",
    "#display(airbnb)\n",
    "airbnb.head(3)"
   ]
  },
  {
   "cell_type": "code",
   "execution_count": 4,
   "id": "be783ea4",
   "metadata": {},
   "outputs": [
    {
     "name": "stdout",
     "output_type": "stream",
     "text": [
      "<class 'pandas.core.frame.DataFrame'>\n",
      "RangeIndex: 37631 entries, 0 to 37630\n",
      "Data columns (total 74 columns):\n",
      " #   Column                                        Non-Null Count  Dtype  \n",
      "---  ------                                        --------------  -----  \n",
      " 0   id                                            37631 non-null  int64  \n",
      " 1   listing_url                                   37631 non-null  object \n",
      " 2   scrape_id                                     37631 non-null  int64  \n",
      " 3   last_scraped                                  37631 non-null  object \n",
      " 4   name                                          37617 non-null  object \n",
      " 5   description                                   36624 non-null  object \n",
      " 6   neighborhood_overview                         22408 non-null  object \n",
      " 7   picture_url                                   37631 non-null  object \n",
      " 8   host_id                                       37631 non-null  int64  \n",
      " 9   host_url                                      37631 non-null  object \n",
      " 10  host_name                                     37544 non-null  object \n",
      " 11  host_since                                    37544 non-null  object \n",
      " 12  host_location                                 37444 non-null  object \n",
      " 13  host_about                                    21350 non-null  object \n",
      " 14  host_response_time                            23312 non-null  object \n",
      " 15  host_response_rate                            23312 non-null  object \n",
      " 16  host_acceptance_rate                          25159 non-null  object \n",
      " 17  host_is_superhost                             37544 non-null  object \n",
      " 18  host_thumbnail_url                            37544 non-null  object \n",
      " 19  host_picture_url                              37544 non-null  object \n",
      " 20  host_neighbourhood                            30085 non-null  object \n",
      " 21  host_listings_count                           37544 non-null  float64\n",
      " 22  host_total_listings_count                     37544 non-null  float64\n",
      " 23  host_verifications                            37631 non-null  object \n",
      " 24  host_has_profile_pic                          37544 non-null  object \n",
      " 25  host_identity_verified                        37544 non-null  object \n",
      " 26  neighbourhood                                 22409 non-null  object \n",
      " 27  neighbourhood_cleansed                        37631 non-null  object \n",
      " 28  neighbourhood_group_cleansed                  37631 non-null  object \n",
      " 29  latitude                                      37631 non-null  float64\n",
      " 30  longitude                                     37631 non-null  float64\n",
      " 31  property_type                                 37631 non-null  object \n",
      " 32  room_type                                     37631 non-null  object \n",
      " 33  accommodates                                  37631 non-null  int64  \n",
      " 34  bathrooms                                     0 non-null      float64\n",
      " 35  bathrooms_text                                37535 non-null  object \n",
      " 36  bedrooms                                      33833 non-null  float64\n",
      " 37  beds                                          36612 non-null  float64\n",
      " 38  amenities                                     37631 non-null  object \n",
      " 39  price                                         37631 non-null  object \n",
      " 40  minimum_nights                                37631 non-null  int64  \n",
      " 41  maximum_nights                                37631 non-null  int64  \n",
      " 42  minimum_minimum_nights                        37613 non-null  float64\n",
      " 43  maximum_minimum_nights                        37613 non-null  float64\n",
      " 44  minimum_maximum_nights                        37613 non-null  float64\n",
      " 45  maximum_maximum_nights                        37613 non-null  float64\n",
      " 46  minimum_nights_avg_ntm                        37613 non-null  float64\n",
      " 47  maximum_nights_avg_ntm                        37613 non-null  float64\n",
      " 48  calendar_updated                              0 non-null      float64\n",
      " 49  has_availability                              37631 non-null  object \n",
      " 50  availability_30                               37631 non-null  int64  \n",
      " 51  availability_60                               37631 non-null  int64  \n",
      " 52  availability_90                               37631 non-null  int64  \n",
      " 53  availability_365                              37631 non-null  int64  \n",
      " 54  calendar_last_scraped                         37631 non-null  object \n",
      " 55  number_of_reviews                             37631 non-null  int64  \n",
      " 56  number_of_reviews_ltm                         37631 non-null  int64  \n",
      " 57  number_of_reviews_l30d                        37631 non-null  int64  \n",
      " 58  first_review                                  28657 non-null  object \n",
      " 59  last_review                                   28657 non-null  object \n",
      " 60  review_scores_rating                          28657 non-null  float64\n",
      " 61  review_scores_accuracy                        28148 non-null  float64\n",
      " 62  review_scores_cleanliness                     28158 non-null  float64\n",
      " 63  review_scores_checkin                         28143 non-null  float64\n",
      " 64  review_scores_communication                   28152 non-null  float64\n",
      " 65  review_scores_location                        28140 non-null  float64\n",
      " 66  review_scores_value                           28139 non-null  float64\n",
      " 67  license                                       1 non-null      object \n",
      " 68  instant_bookable                              37631 non-null  object \n",
      " 69  calculated_host_listings_count                37631 non-null  int64  \n",
      " 70  calculated_host_listings_count_entire_homes   37631 non-null  int64  \n",
      " 71  calculated_host_listings_count_private_rooms  37631 non-null  int64  \n",
      " 72  calculated_host_listings_count_shared_rooms   37631 non-null  int64  \n",
      " 73  reviews_per_month                             28657 non-null  float64\n",
      "dtypes: float64(22), int64(17), object(35)\n",
      "memory usage: 21.2+ MB\n"
     ]
    }
   ],
   "source": [
    "# Get main info of the dataset quickly\n",
    "airbnb.info()"
   ]
  },
  {
   "cell_type": "code",
   "execution_count": 5,
   "id": "acd4177b",
   "metadata": {},
   "outputs": [
    {
     "data": {
      "text/plain": [
       "0                New York, United States\n",
       "1                                    NaN\n",
       "2                                    NaN\n",
       "3                New York, United States\n",
       "4                New York, United States\n",
       "                      ...               \n",
       "37626    Queens, New York, United States\n",
       "37627                                NaN\n",
       "37628                                NaN\n",
       "37629            New York, United States\n",
       "37630            New York, United States\n",
       "Name: neighbourhood, Length: 37631, dtype: object"
      ]
     },
     "execution_count": 5,
     "metadata": {},
     "output_type": "execute_result"
    }
   ],
   "source": [
    "#Results for a single column\n",
    "airbnb[\"neighbourhood\"]"
   ]
  },
  {
   "cell_type": "code",
   "execution_count": 6,
   "id": "f9015a8a",
   "metadata": {},
   "outputs": [
    {
     "data": {
      "text/html": [
       "<div>\n",
       "<style scoped>\n",
       "    .dataframe tbody tr th:only-of-type {\n",
       "        vertical-align: middle;\n",
       "    }\n",
       "\n",
       "    .dataframe tbody tr th {\n",
       "        vertical-align: top;\n",
       "    }\n",
       "\n",
       "    .dataframe thead th {\n",
       "        text-align: right;\n",
       "    }\n",
       "</style>\n",
       "<table border=\"1\" class=\"dataframe\">\n",
       "  <thead>\n",
       "    <tr style=\"text-align: right;\">\n",
       "      <th></th>\n",
       "      <th>host_id</th>\n",
       "      <th>host_name</th>\n",
       "    </tr>\n",
       "  </thead>\n",
       "  <tbody>\n",
       "    <tr>\n",
       "      <th>0</th>\n",
       "      <td>2845</td>\n",
       "      <td>Jennifer</td>\n",
       "    </tr>\n",
       "    <tr>\n",
       "      <th>1</th>\n",
       "      <td>7356</td>\n",
       "      <td>Garon</td>\n",
       "    </tr>\n",
       "    <tr>\n",
       "      <th>2</th>\n",
       "      <td>7378</td>\n",
       "      <td>Rebecca</td>\n",
       "    </tr>\n",
       "    <tr>\n",
       "      <th>3</th>\n",
       "      <td>8967</td>\n",
       "      <td>Shunichi</td>\n",
       "    </tr>\n",
       "    <tr>\n",
       "      <th>4</th>\n",
       "      <td>7490</td>\n",
       "      <td>MaryEllen</td>\n",
       "    </tr>\n",
       "  </tbody>\n",
       "</table>\n",
       "</div>"
      ],
      "text/plain": [
       "   host_id  host_name\n",
       "0     2845   Jennifer\n",
       "1     7356      Garon\n",
       "2     7378    Rebecca\n",
       "3     8967   Shunichi\n",
       "4     7490  MaryEllen"
      ]
     },
     "execution_count": 6,
     "metadata": {},
     "output_type": "execute_result"
    }
   ],
   "source": [
    "# Results for multiple columns. Notice the double brackets because we input a list of columns.\n",
    "hosts = airbnb[['host_id', 'host_name']]\n",
    "hosts.head()"
   ]
  },
  {
   "cell_type": "code",
   "execution_count": 7,
   "id": "356777fd",
   "metadata": {},
   "outputs": [
    {
     "data": {
      "text/plain": [
       "Index(['id', 'scrape_id', 'host_id', 'host_listings_count',\n",
       "       'host_total_listings_count', 'latitude', 'longitude', 'accommodates',\n",
       "       'bathrooms', 'bedrooms', 'beds', 'minimum_nights', 'maximum_nights',\n",
       "       'minimum_minimum_nights', 'maximum_minimum_nights',\n",
       "       'minimum_maximum_nights', 'maximum_maximum_nights',\n",
       "       'minimum_nights_avg_ntm', 'maximum_nights_avg_ntm', 'calendar_updated',\n",
       "       'availability_30', 'availability_60', 'availability_90',\n",
       "       'availability_365', 'number_of_reviews', 'number_of_reviews_ltm',\n",
       "       'number_of_reviews_l30d', 'review_scores_rating',\n",
       "       'review_scores_accuracy', 'review_scores_cleanliness',\n",
       "       'review_scores_checkin', 'review_scores_communication',\n",
       "       'review_scores_location', 'review_scores_value',\n",
       "       'calculated_host_listings_count',\n",
       "       'calculated_host_listings_count_entire_homes',\n",
       "       'calculated_host_listings_count_private_rooms',\n",
       "       'calculated_host_listings_count_shared_rooms', 'reviews_per_month'],\n",
       "      dtype='object')"
      ]
     },
     "execution_count": 7,
     "metadata": {},
     "output_type": "execute_result"
    }
   ],
   "source": [
    "#Select columns that are of a specific dtype:\n",
    "object_attrib = airbnb.select_dtypes(include=['object'])\n",
    "object_attrib.columns # to print the list of attributes that are of dtype = object\n",
    "numerical_attrib = airbnb.select_dtypes(include=['int64', 'float64'])\n",
    "numerical_attrib.columns"
   ]
  },
  {
   "cell_type": "markdown",
   "id": "b1907e43",
   "metadata": {},
   "source": [
    "# Initial data analysis \n",
    "### Questions to answer:\n",
    "Our goals in this case study will be to understand some of the differences between each type of listing in our data, defined by the room_type column. Specifically, we would like to know: \n",
    "* What is the typical price for a listing? \n",
    "* What is the difference in median price for different types of listings? \n",
    "* How have these prices changed over time for each listing type? \n",
    "* What is the distribution of typical listing prices?"
   ]
  },
  {
   "cell_type": "markdown",
   "id": "d7b64e85",
   "metadata": {},
   "source": [
    "## Data cleaning"
   ]
  },
  {
   "cell_type": "code",
   "execution_count": 8,
   "id": "48da8d6e",
   "metadata": {},
   "outputs": [],
   "source": [
    "# Drop columns with 0 or very few non-null entries\n",
    "to_drop= [\"calendar_updated\",\"bathrooms\", \"license\"]\n",
    "airbnb_droped = airbnb.drop(to_drop, axis=1)\n",
    "\n",
    "#airbnb_droped.info(3) #Check we've droped correctly\n"
   ]
  },
  {
   "cell_type": "code",
   "execution_count": 9,
   "id": "2a95f18c",
   "metadata": {},
   "outputs": [
    {
     "data": {
      "text/plain": [
       "0   2019-11-04\n",
       "1   2019-12-02\n",
       "2   2021-08-08\n",
       "3   2022-02-18\n",
       "4   2017-07-21\n",
       "Name: last_review, dtype: datetime64[ns]"
      ]
     },
     "execution_count": 9,
     "metadata": {},
     "output_type": "execute_result"
    }
   ],
   "source": [
    "# Continue with changing dytpe of date-columns to dtype= date-time\n",
    "airbnb_droped['last_review']= pd.to_datetime(airbnb_droped['last_review'])\n",
    "airbnb_droped['last_review'].head()\n"
   ]
  },
  {
   "cell_type": "code",
   "execution_count": 10,
   "id": "43518166",
   "metadata": {},
   "outputs": [
    {
     "data": {
      "text/plain": [
       "0    2019.0\n",
       "1    2019.0\n",
       "2    2021.0\n",
       "3    2022.0\n",
       "4    2017.0\n",
       "Name: year, dtype: float64"
      ]
     },
     "execution_count": 10,
     "metadata": {},
     "output_type": "execute_result"
    }
   ],
   "source": [
    "# We can extract the year from the the \"last_review\" column like this\n",
    "airbnb_droped['year'] = airbnb_droped['last_review'].dt.year\n",
    "airbnb_droped['year'].head()"
   ]
  },
  {
   "cell_type": "code",
   "execution_count": 11,
   "id": "e77194a6",
   "metadata": {},
   "outputs": [
    {
     "data": {
      "text/html": [
       "<div>\n",
       "<style scoped>\n",
       "    .dataframe tbody tr th:only-of-type {\n",
       "        vertical-align: middle;\n",
       "    }\n",
       "\n",
       "    .dataframe tbody tr th {\n",
       "        vertical-align: top;\n",
       "    }\n",
       "\n",
       "    .dataframe thead th {\n",
       "        text-align: right;\n",
       "    }\n",
       "</style>\n",
       "<table border=\"1\" class=\"dataframe\">\n",
       "  <thead>\n",
       "    <tr style=\"text-align: right;\">\n",
       "      <th></th>\n",
       "      <th>minimum_nights</th>\n",
       "      <th>price</th>\n",
       "      <th>min_revenue</th>\n",
       "    </tr>\n",
       "  </thead>\n",
       "  <tbody>\n",
       "    <tr>\n",
       "      <th>0</th>\n",
       "      <td>30</td>\n",
       "      <td>150.0</td>\n",
       "      <td>4500.0</td>\n",
       "    </tr>\n",
       "    <tr>\n",
       "      <th>1</th>\n",
       "      <td>30</td>\n",
       "      <td>60.0</td>\n",
       "      <td>1800.0</td>\n",
       "    </tr>\n",
       "    <tr>\n",
       "      <th>2</th>\n",
       "      <td>5</td>\n",
       "      <td>275.0</td>\n",
       "      <td>1375.0</td>\n",
       "    </tr>\n",
       "    <tr>\n",
       "      <th>3</th>\n",
       "      <td>2</td>\n",
       "      <td>68.0</td>\n",
       "      <td>136.0</td>\n",
       "    </tr>\n",
       "    <tr>\n",
       "      <th>4</th>\n",
       "      <td>2</td>\n",
       "      <td>75.0</td>\n",
       "      <td>150.0</td>\n",
       "    </tr>\n",
       "  </tbody>\n",
       "</table>\n",
       "</div>"
      ],
      "text/plain": [
       "   minimum_nights  price  min_revenue\n",
       "0              30  150.0       4500.0\n",
       "1              30   60.0       1800.0\n",
       "2               5  275.0       1375.0\n",
       "3               2   68.0        136.0\n",
       "4               2   75.0        150.0"
      ]
     },
     "execution_count": 11,
     "metadata": {},
     "output_type": "execute_result"
    }
   ],
   "source": [
    "#Calculate new outputs using columns directly\n",
    "airbnb_droped[\"price\"] = airbnb_droped[\"price\"].replace('[\\$,]', '', regex=True).astype(float)\n",
    "airbnb_droped[\"min_revenue\"] = airbnb_droped[\"minimum_nights\"] * airbnb_droped[\"price\"]\n",
    "airbnb_droped[[\"minimum_nights\", \"price\", \"min_revenue\"]].head(5)"
   ]
  },
  {
   "cell_type": "markdown",
   "id": "0a56b6b8",
   "metadata": {},
   "source": [
    "## Initial statistics"
   ]
  },
  {
   "cell_type": "code",
   "execution_count": 12,
   "id": "8a5db2ff",
   "metadata": {},
   "outputs": [
    {
     "name": "stdout",
     "output_type": "stream",
     "text": [
      "Mean listing price =  166.22468177832107\n"
     ]
    }
   ],
   "source": [
    "mean = airbnb_droped[\"price\"].mean()\n",
    "print(\"Mean listing price = \", mean)"
   ]
  },
  {
   "cell_type": "code",
   "execution_count": 13,
   "id": "6b86129b",
   "metadata": {},
   "outputs": [
    {
     "name": "stdout",
     "output_type": "stream",
     "text": [
      "Median listing price =  112.0\n"
     ]
    }
   ],
   "source": [
    "median = airbnb_droped[\"price\"].median()\n",
    "print(\"Median listing price = \", median)"
   ]
  },
  {
   "cell_type": "markdown",
   "id": "7254a453",
   "metadata": {},
   "source": [
    "This significant difference in mean and median suggests the distribution in price is heavily skewed. We should rely more on median prices for our analysis to get a sense of typical listings. So here we answered the first question \"the typical price of a listing\" is given by the median."
   ]
  },
  {
   "cell_type": "code",
   "execution_count": 14,
   "id": "123852af",
   "metadata": {},
   "outputs": [
    {
     "data": {
      "text/html": [
       "<div>\n",
       "<style scoped>\n",
       "    .dataframe tbody tr th:only-of-type {\n",
       "        vertical-align: middle;\n",
       "    }\n",
       "\n",
       "    .dataframe tbody tr th {\n",
       "        vertical-align: top;\n",
       "    }\n",
       "\n",
       "    .dataframe thead th {\n",
       "        text-align: right;\n",
       "    }\n",
       "</style>\n",
       "<table border=\"1\" class=\"dataframe\">\n",
       "  <thead>\n",
       "    <tr style=\"text-align: right;\">\n",
       "      <th></th>\n",
       "      <th>room_type</th>\n",
       "      <th>price</th>\n",
       "    </tr>\n",
       "  </thead>\n",
       "  <tbody>\n",
       "    <tr>\n",
       "      <th>0</th>\n",
       "      <td>Entire home/apt</td>\n",
       "      <td>216.920342</td>\n",
       "    </tr>\n",
       "    <tr>\n",
       "      <th>1</th>\n",
       "      <td>Hotel room</td>\n",
       "      <td>274.813131</td>\n",
       "    </tr>\n",
       "    <tr>\n",
       "      <th>2</th>\n",
       "      <td>Private room</td>\n",
       "      <td>103.087636</td>\n",
       "    </tr>\n",
       "    <tr>\n",
       "      <th>3</th>\n",
       "      <td>Shared room</td>\n",
       "      <td>145.201401</td>\n",
       "    </tr>\n",
       "  </tbody>\n",
       "</table>\n",
       "</div>"
      ],
      "text/plain": [
       "         room_type       price\n",
       "0  Entire home/apt  216.920342\n",
       "1       Hotel room  274.813131\n",
       "2     Private room  103.087636\n",
       "3      Shared room  145.201401"
      ]
     },
     "execution_count": 14,
     "metadata": {},
     "output_type": "execute_result"
    }
   ],
   "source": [
    "# get the mean grouped by type of room\n",
    "airbnb_droped[[\"room_type\", \"price\"]].groupby('room_type', as_index=False).mean()"
   ]
  },
  {
   "cell_type": "code",
   "execution_count": 15,
   "id": "cb012e3a",
   "metadata": {},
   "outputs": [
    {
     "data": {
      "text/html": [
       "<div>\n",
       "<style scoped>\n",
       "    .dataframe tbody tr th:only-of-type {\n",
       "        vertical-align: middle;\n",
       "    }\n",
       "\n",
       "    .dataframe tbody tr th {\n",
       "        vertical-align: top;\n",
       "    }\n",
       "\n",
       "    .dataframe thead th {\n",
       "        text-align: right;\n",
       "    }\n",
       "</style>\n",
       "<table border=\"1\" class=\"dataframe\">\n",
       "  <thead>\n",
       "    <tr style=\"text-align: right;\">\n",
       "      <th></th>\n",
       "      <th>room_type</th>\n",
       "      <th>price</th>\n",
       "    </tr>\n",
       "  </thead>\n",
       "  <tbody>\n",
       "    <tr>\n",
       "      <th>0</th>\n",
       "      <td>Entire home/apt</td>\n",
       "      <td>156.0</td>\n",
       "    </tr>\n",
       "    <tr>\n",
       "      <th>1</th>\n",
       "      <td>Hotel room</td>\n",
       "      <td>200.0</td>\n",
       "    </tr>\n",
       "    <tr>\n",
       "      <th>2</th>\n",
       "      <td>Private room</td>\n",
       "      <td>66.0</td>\n",
       "    </tr>\n",
       "    <tr>\n",
       "      <th>3</th>\n",
       "      <td>Shared room</td>\n",
       "      <td>50.0</td>\n",
       "    </tr>\n",
       "  </tbody>\n",
       "</table>\n",
       "</div>"
      ],
      "text/plain": [
       "         room_type  price\n",
       "0  Entire home/apt  156.0\n",
       "1       Hotel room  200.0\n",
       "2     Private room   66.0\n",
       "3      Shared room   50.0"
      ]
     },
     "execution_count": 15,
     "metadata": {},
     "output_type": "execute_result"
    }
   ],
   "source": [
    "# get the median grouped by type of room\n",
    "airbnb_droped[[\"room_type\", \"price\"]].groupby('room_type', as_index=False).median()"
   ]
  },
  {
   "cell_type": "code",
   "execution_count": 16,
   "id": "05db52db",
   "metadata": {},
   "outputs": [],
   "source": [
    "# get the median grouped by type of room and year\n",
    "group = airbnb_droped[['room_type', 'year', 'price']].groupby(['room_type', 'year'], as_index=False).median()\n",
    "\n",
    "# we create a separate subset for each category\n",
    "c0 = group.loc[group['room_type'] == \"Entire home/apt\"]\n",
    "c1 = group.loc[group['room_type'] == \"Hotel room\"]\n",
    "c2 = group.loc[group['room_type'] == \"Private room\"]\n",
    "c3 = group.loc[group['room_type'] == \"Shared room\"]\n"
   ]
  },
  {
   "cell_type": "code",
   "execution_count": 17,
   "id": "6b69a747",
   "metadata": {},
   "outputs": [
    {
     "name": "stdout",
     "output_type": "stream",
     "text": [
      "      room_type    year   price\n",
      "30  Shared room  2013.0  1025.0\n",
      "31  Shared room  2015.0    60.0\n",
      "32  Shared room  2016.0    99.0\n",
      "33  Shared room  2017.0    61.0\n",
      "34  Shared room  2018.0    54.0\n",
      "35  Shared room  2019.0    66.5\n",
      "36  Shared room  2020.0    55.0\n",
      "37  Shared room  2021.0    50.0\n",
      "38  Shared room  2022.0    35.0\n"
     ]
    }
   ],
   "source": [
    "print(c3)"
   ]
  },
  {
   "cell_type": "code",
   "execution_count": 18,
   "id": "c7e9d721",
   "metadata": {},
   "outputs": [
    {
     "name": "stdout",
     "output_type": "stream",
     "text": [
      "      room_type    year  price\n",
      "31  Shared room  2015.0   60.0\n",
      "32  Shared room  2016.0   99.0\n",
      "33  Shared room  2017.0   61.0\n",
      "34  Shared room  2018.0   54.0\n",
      "35  Shared room  2019.0   66.5\n",
      "36  Shared room  2020.0   55.0\n",
      "37  Shared room  2021.0   50.0\n",
      "38  Shared room  2022.0   35.0\n"
     ]
    }
   ],
   "source": [
    "# We notice there's an outlier in the \"Shared room\" data for the year 2013\n",
    "# We eliminate it to better visualize the time evolution of mean prices for the different categories\n",
    "c3 = c3.drop(c3.index[0])\n",
    "print (c3)"
   ]
  },
  {
   "cell_type": "code",
   "execution_count": 19,
   "id": "d15f254d",
   "metadata": {},
   "outputs": [
    {
     "data": {
      "image/png": "[encoded data removed]",
      "text/plain": [
       "<Figure size 720x504 with 1 Axes>"
      ]
     },
     "metadata": {
      "needs_background": "light"
     },
     "output_type": "display_data"
    }
   ],
   "source": [
    "fig, ax = plt.subplots(1, 1, figsize=(10,7))\n",
    "ax.plot(c0.year, c0.price, label = \"Entire home/apt\")\n",
    "ax.plot(c1.year, c1.price, label = \"Hotel room\")\n",
    "ax.plot(c2.year, c2.price, label = \"Private room\")\n",
    "ax.plot(c3.year, c3.price, label = \"Shared room\")\n",
    "ax.set_ylabel(\"Price ($)\")\n",
    "ax.set_xlabel(\"Year\")\n",
    "ax.legend()\n",
    "plt.show()\n"
   ]
  },
  {
   "cell_type": "markdown",
   "id": "718f10df",
   "metadata": {},
   "source": [
    "The above plot answers how have these prices changed over time for each listing type."
   ]
  },
  {
   "cell_type": "markdown",
   "id": "f43153b9",
   "metadata": {},
   "source": [
    "### How to filter data"
   ]
  },
  {
   "cell_type": "code",
   "execution_count": 20,
   "id": "d78260e8",
   "metadata": {},
   "outputs": [
    {
     "data": {
      "text/html": [
       "<div>\n",
       "<style scoped>\n",
       "    .dataframe tbody tr th:only-of-type {\n",
       "        vertical-align: middle;\n",
       "    }\n",
       "\n",
       "    .dataframe tbody tr th {\n",
       "        vertical-align: top;\n",
       "    }\n",
       "\n",
       "    .dataframe thead th {\n",
       "        text-align: right;\n",
       "    }\n",
       "</style>\n",
       "<table border=\"1\" class=\"dataframe\">\n",
       "  <thead>\n",
       "    <tr style=\"text-align: right;\">\n",
       "      <th></th>\n",
       "      <th>price</th>\n",
       "      <th>year</th>\n",
       "    </tr>\n",
       "  </thead>\n",
       "  <tbody>\n",
       "    <tr>\n",
       "      <th>15</th>\n",
       "      <td>55.0</td>\n",
       "      <td>2020.0</td>\n",
       "    </tr>\n",
       "    <tr>\n",
       "      <th>26</th>\n",
       "      <td>99.0</td>\n",
       "      <td>2020.0</td>\n",
       "    </tr>\n",
       "    <tr>\n",
       "      <th>30</th>\n",
       "      <td>80.0</td>\n",
       "      <td>2020.0</td>\n",
       "    </tr>\n",
       "    <tr>\n",
       "      <th>32</th>\n",
       "      <td>206.0</td>\n",
       "      <td>2020.0</td>\n",
       "    </tr>\n",
       "    <tr>\n",
       "      <th>39</th>\n",
       "      <td>220.0</td>\n",
       "      <td>2020.0</td>\n",
       "    </tr>\n",
       "    <tr>\n",
       "      <th>...</th>\n",
       "      <td>...</td>\n",
       "      <td>...</td>\n",
       "    </tr>\n",
       "    <tr>\n",
       "      <th>26493</th>\n",
       "      <td>55.0</td>\n",
       "      <td>2020.0</td>\n",
       "    </tr>\n",
       "    <tr>\n",
       "      <th>26522</th>\n",
       "      <td>182.0</td>\n",
       "      <td>2020.0</td>\n",
       "    </tr>\n",
       "    <tr>\n",
       "      <th>26592</th>\n",
       "      <td>35.0</td>\n",
       "      <td>2020.0</td>\n",
       "    </tr>\n",
       "    <tr>\n",
       "      <th>26640</th>\n",
       "      <td>110.0</td>\n",
       "      <td>2020.0</td>\n",
       "    </tr>\n",
       "    <tr>\n",
       "      <th>26669</th>\n",
       "      <td>40.0</td>\n",
       "      <td>2020.0</td>\n",
       "    </tr>\n",
       "  </tbody>\n",
       "</table>\n",
       "<p>3235 rows × 2 columns</p>\n",
       "</div>"
      ],
      "text/plain": [
       "       price    year\n",
       "15      55.0  2020.0\n",
       "26      99.0  2020.0\n",
       "30      80.0  2020.0\n",
       "32     206.0  2020.0\n",
       "39     220.0  2020.0\n",
       "...      ...     ...\n",
       "26493   55.0  2020.0\n",
       "26522  182.0  2020.0\n",
       "26592   35.0  2020.0\n",
       "26640  110.0  2020.0\n",
       "26669   40.0  2020.0\n",
       "\n",
       "[3235 rows x 2 columns]"
      ]
     },
     "execution_count": 20,
     "metadata": {},
     "output_type": "execute_result"
    }
   ],
   "source": [
    "# get all rows with price < 1000\n",
    "airbnb_under_1000 = airbnb_droped[airbnb_droped[\"price\"] < 1000]\n",
    "airbnb_under_1000[\"price\"].head()\n",
    "\n",
    "# get all rows with price < 1000 and year equal to 2020\n",
    "airbnb_under_1000_2020 = airbnb_droped[(airbnb_droped[\"price\"] <1000) & (airbnb_droped[\"year\"] == 2020)]\n",
    "airbnb_under_1000_2020[[\"price\", \"year\"]]"
   ]
  },
  {
   "cell_type": "code",
   "execution_count": 21,
   "id": "cb2d5c9e",
   "metadata": {},
   "outputs": [
    {
     "data": {
      "image/png": "[encoded data removed]",
      "text/plain": [
       "<Figure size 432x288 with 1 Axes>"
      ]
     },
     "metadata": {
      "needs_background": "light"
     },
     "output_type": "display_data"
    }
   ],
   "source": [
    "#ax = airbnb_under_1000_2020['price'].plot.hist(bins=40)\n",
    "ax = airbnb_droped['price'].plot.hist(bins=40)\n",
    "ax.set_xlabel(\"Price ($)\")\n",
    "ax.set_yscale(\"log\")"
   ]
  },
  {
   "cell_type": "markdown",
   "id": "44b6e7e9",
   "metadata": {},
   "source": [
    "The above plot shows the distribution of all listing prices regardless of the year. \n",
    "It is informative but it is not the distribution of \"typical\" listing prices. That should be the distribution of median prices, where the median is obtained for each year or for each category of listing."
   ]
  },
  {
   "cell_type": "code",
   "execution_count": 27,
   "id": "369ecc13",
   "metadata": {},
   "outputs": [
    {
     "data": {
      "image/png": "[encoded data removed]",
      "text/plain": [
       "<Figure size 720x576 with 6 Axes>"
      ]
     },
     "metadata": {
      "needs_background": "light"
     },
     "output_type": "display_data"
    }
   ],
   "source": [
    "#ax = airbnb_droped[[\"price\", \"bedrooms\", \"accommodates\", \"review_scores_value\", \n",
    "#                    \"reviews_per_month\", \"number_of_reviews\"]].plot.hist(bins=50, figsize = (10,5), alpha= 0.5)\n",
    "#ax.set_yscale(\"log\")\n",
    "#plt.show()\n",
    "\n",
    "ax = airbnb_droped[[\"price\", \"bedrooms\", \"accommodates\", \"review_scores_value\", \n",
    "                    \"reviews_per_month\", \"number_of_reviews\"]].hist(bins=50, figsize = (10,8), alpha= 0.5)\n",
    "plt.show()"
   ]
  },
  {
   "cell_type": "markdown",
   "id": "38d50155",
   "metadata": {},
   "source": [
    "The first plot is not really necessary or informative --that's why it's commented out--, it was just me trying to code how to visualize all histograms together in a different way."
   ]
  },
  {
   "cell_type": "markdown",
   "id": "bf94e592",
   "metadata": {},
   "source": [
    " ### Take care of NA values"
   ]
  },
  {
   "cell_type": "code",
   "execution_count": 22,
   "id": "b4c373b4",
   "metadata": {},
   "outputs": [
    {
     "name": "stdout",
     "output_type": "stream",
     "text": [
      "<class 'pandas.core.series.Series'>\n",
      "RangeIndex: 37631 entries, 0 to 37630\n",
      "Series name: bedrooms\n",
      "Non-Null Count  Dtype  \n",
      "--------------  -----  \n",
      "37631 non-null  float64\n",
      "dtypes: float64(1)\n",
      "memory usage: 294.1 KB\n"
     ]
    }
   ],
   "source": [
    "# For instance \"bedrooms\" attribute has some missing values so,\n",
    "# we are gonna fill them with the median or just discard the rows\n",
    "\n",
    "#airbnb_droped.dropna(subset=[\"bedrooms\"])    # Get rid of the rows(districts) that have missing value\n",
    "#airbnb_droped.drop(\"bedrooms\", axis=1)       # Get rid of the whole attribute\n",
    "median = airbnb_droped[\"bedrooms\"].median()  # Set the (na) to some value, ie. zero, mean, median, mode...\n",
    "airbnb_droped[\"bedrooms\"].fillna(median, inplace= True)\n",
    "\n",
    "airbnb_droped[\"bedrooms\"].info()"
   ]
  },
  {
   "cell_type": "markdown",
   "id": "a7f5f210",
   "metadata": {},
   "source": [
    "# TO BE CONTINUED"
   ]
  },
  {
   "cell_type": "code",
   "execution_count": null,
   "id": "71ead81e",
   "metadata": {},
   "outputs": [],
   "source": []
  }
 ],
 "metadata": {
  "kernelspec": {
   "display_name": "Python 3 (ipykernel)",
   "language": "python",
   "name": "python3"
  },
  "language_info": {
   "codemirror_mode": {
    "name": "ipython",
    "version": 3
   },
   "file_extension": ".py",
   "mimetype": "text/x-python",
   "name": "python",
   "nbconvert_exporter": "python",
   "pygments_lexer": "ipython3",
   "version": "3.8.10"
  }
 },
 "nbformat": 4,
 "nbformat_minor": 5
}
